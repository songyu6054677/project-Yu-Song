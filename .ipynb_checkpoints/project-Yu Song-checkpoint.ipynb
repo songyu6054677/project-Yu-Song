{
 "cells": [
  {
   "cell_type": "markdown",
   "metadata": {},
   "source": [
    "# Calculating correlations between transcriptome and lipidome in Arabidopsis\n",
    "\n",
    "**Name**: Yu Song <br/>\n",
    "**Semester**: Spring 2020 <br/>\n",
    "**Project area**: Biochemistry\n",
    "\n",
    "\n",
    "## Objective\n",
    "Write a python function to automate the calculation of correlation value from transcriptome data and lipidome data for a specific gene and a specific lipid molecular species in Arabidopsis.\n",
    "\n",
    "## Outcomes\n",
    "The input file is a csv. file with seven columns – accession ID, CS number, accession name, gene ID, lipid ID, RNAseq value, and lipid value.<br/>\n",
    "The output file is a .csv file with three columns: gene ID, lipid ID, and correlation level.\n",
    "\n",
    "## Rationale\n",
    "*Arabidopsis thaliana* is an excellent model to study genetic, cellular, and molecular biology of plants because of its small genome size, well-sequenced genomes. Genome wide association studies (GWAS) is a powerful tool to dissect the genetic architecture of complex traits in plant. Our previous GWAS analysis based on lipidomic data of 360 natural Arabidopsis accessions revealed some candidate genes along with causative SNPs for lipid metabolism. Some SNPs are located in intron or intergenic region which may influence the gene expression level. We know there are some associations between transcriptome variation and lipid variation in natural Arabidopsis accessions. Kawakatsu et al. analyzed the transcriptomes from 727 accessions grown at 22°C. Recently we analyzed the lipidomes from 360 accessions also grown at the same condition. We hypothesized that with high correlation value calculated from RNAseq values of specific gene and lipid values, it is possible the gene is responsible for lipid metabolism. Strong correlations between transcriptome and lipidome provide more evidence to confirm the candidate genes identified by GWAS.\n",
    "\n",
    "## Sketch\n",
    "\n",
    "<img src=\"sketch.png\" alt=\"sketch_image\" width=\"1000\"/>\n",
    "\n",
    "## References\n",
    "Kawakatsu, Taiji, et al. \"Epigenomic diversity in a global collection of Arabidopsis thaliana accessions.\" *Cell* 166.2 (2016): 492-505."
   ]
  }
 ],
 "metadata": {
  "kernelspec": {
   "display_name": "Python 3",
   "language": "python",
   "name": "python3"
  },
  "language_info": {
   "codemirror_mode": {
    "name": "ipython",
    "version": 3
   },
   "file_extension": ".py",
   "mimetype": "text/x-python",
   "name": "python",
   "nbconvert_exporter": "python",
   "pygments_lexer": "ipython3",
   "version": "3.7.4"
  }
 },
 "nbformat": 4,
 "nbformat_minor": 4
}
